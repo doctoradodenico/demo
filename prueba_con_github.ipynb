{
  "nbformat": 4,
  "nbformat_minor": 0,
  "metadata": {
    "colab": {
      "name": "prueba_con_github.ipynb",
      "provenance": []
    },
    "kernelspec": {
      "name": "python3",
      "display_name": "Python 3"
    }
  },
  "cells": [
    {
      "cell_type": "code",
      "metadata": {
        "id": "ZZtIcMqKF97O",
        "colab_type": "code",
        "outputId": "d8f13f0f-612c-4bdc-d296-577a8e0051a5",
        "colab": {
          "base_uri": "https://localhost:8080/",
          "height": 34
        }
      },
      "source": [
        "# texto 1\n",
        "print(\"hola Jorge, nueva rama 2\")"
      ],
      "execution_count": 0,
      "outputs": [
        {
          "output_type": "stream",
          "text": [
            "hola Nico\n"
          ],
          "name": "stdout"
        }
      ]
    }
  ]
}