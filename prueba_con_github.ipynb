{
  "nbformat": 4,
  "nbformat_minor": 0,
  "metadata": {
    "colab": {
      "name": "prueba_con_github.ipynb",
      "provenance": [],
      "authorship_tag": "ABX9TyNbKPrkvkfZtpTdvw/sl3u5",
      "include_colab_link": true
    },
    "kernelspec": {
      "name": "python3",
      "display_name": "Python 3"
    }
  },
  "cells": [
    {
      "cell_type": "markdown",
      "metadata": {
        "id": "view-in-github",
        "colab_type": "text"
      },
      "source": [
        "<a href=\"https://colab.research.google.com/github/doctoradodenico/demo/blob/master/prueba_con_github.ipynb\" target=\"_parent\"><img src=\"https://colab.research.google.com/assets/colab-badge.svg\" alt=\"Open In Colab\"/></a>"
      ]
    },
    {
      "cell_type": "code",
      "metadata": {
        "id": "ZZtIcMqKF97O",
        "colab_type": "code",
        "colab": {
          "base_uri": "https://localhost:8080/",
          "height": 34
        },
        "outputId": "d8f13f0f-612c-4bdc-d296-577a8e0051a5"
      },
      "source": [
        "# texto 1\n",
        "print(\"hola Nico\")"
      ],
      "execution_count": 3,
      "outputs": [
        {
          "output_type": "stream",
          "text": [
            "hola Nico\n"
          ],
          "name": "stdout"
        }
      ]
    }
  ]
}