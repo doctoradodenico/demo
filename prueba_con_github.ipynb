{
  "nbformat": 4,
  "nbformat_minor": 0,
  "metadata": {
    "colab": {
      "name": "prueba_con_github.ipynb",
      "provenance": [],
      "authorship_tag": "ABX9TyMFVd/D6s9EG8eENQV6OMwn"
    },
    "kernelspec": {
      "name": "python3",
      "display_name": "Python 3"
    }
  },
  "cells": [
    {
      "cell_type": "code",
      "metadata": {
        "id": "ZZtIcMqKF97O",
        "colab_type": "code",
        "outputId": "6ba086f9-158b-4527-ab2c-1f746edfa29d",
        "colab": {
          "base_uri": "https://localhost:8080/",
          "height": 34
        }
      },
      "source": [
        "# texto 1\n",
        "print(\"hola 2 veces\")"
      ],
      "execution_count": 1,
      "outputs": [
        {
          "output_type": "stream",
          "text": [
            "hola 2 veces\n"
          ],
          "name": "stdout"
        }
      ]
    }
  ]
}