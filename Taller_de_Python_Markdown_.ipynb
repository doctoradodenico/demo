{
  "nbformat": 4,
  "nbformat_minor": 0,
  "metadata": {
    "colab": {
      "name": "Taller de Python Markdown .ipynb",
      "provenance": [],
      "toc_visible": true,
      "authorship_tag": "ABX9TyMNRiis+C7FeUrLYXNJM51f",
      "include_colab_link": true
    },
    "kernelspec": {
      "name": "python3",
      "display_name": "Python 3"
    }
  },
  "cells": [
    {
      "cell_type": "markdown",
      "metadata": {
        "id": "view-in-github",
        "colab_type": "text"
      },
      "source": [
        "<a href=\"https://colab.research.google.com/github/doctoradodenico/demo/blob/master/Taller_de_Python_Markdown_.ipynb\" target=\"_parent\"><img src=\"https://colab.research.google.com/assets/colab-badge.svg\" alt=\"Open In Colab\"/></a>"
      ]
    },
    {
      "cell_type": "markdown",
      "metadata": {
        "id": "IjaD6BW4_C-j",
        "colab_type": "text"
      },
      "source": [
        "# Título 1\n",
        "## Título2\n",
        "### Título 3\n",
        "###### Título 6\n",
        "\n",
        "# *cursiva*\n",
        "\n",
        "**negrita**\n",
        "\n",
        "Estamos en el taller de **Python**\n",
        "\n",
        "***negritaycursiva***\n",
        "\n",
        "# Título 2"
      ]
    },
    {
      "cell_type": "markdown",
      "metadata": {
        "id": "PG89Byt3_4jz",
        "colab_type": "text"
      },
      "source": [
        "# Traemos una imagen\n",
        "\n",
        "![texto alternativo](https://instituto.hospitalitaliano.org.ar/images/edu/logos2020/logo_iuhiba_chico_color.png)\n",
        "\n",
        "[iuhi](https://instituto.hospitalitaliano.org.ar/#!/home/principal/inicio)"
      ]
    },
    {
      "cell_type": "markdown",
      "metadata": {
        "id": "FkiiOzbYAzRh",
        "colab_type": "text"
      },
      "source": [
        "# Sucesión de Fibonacci\n",
        "\n",
        "[wiki](https://es.wikipedia.org/wiki/Sucesi%C3%B3n_de_Fibonacci)"
      ]
    },
    {
      "cell_type": "code",
      "metadata": {
        "id": "uQet0zkrBD2f",
        "colab_type": "code",
        "colab": {}
      },
      "source": [
        "def fibonacci():\n",
        "  # bla bla bla"
      ],
      "execution_count": 0,
      "outputs": []
    },
    {
      "cell_type": "markdown",
      "metadata": {
        "id": "3yZfzea2BK2z",
        "colab_type": "text"
      },
      "source": [
        "\n",
        "* Materias\n",
        "  * Electrotecnia\n",
        "  * Mecánica del continuo\n",
        "  * Fundamentos de automática"
      ]
    },
    {
      "cell_type": "markdown",
      "metadata": {
        "id": "_kYfMP2CBhAd",
        "colab_type": "text"
      },
      "source": [
        "# TABLAS\n",
        "[generar tablas](https://www.tablesgenerator.com/markdown_tables)\n",
        "\n",
        "| Materia       | días         |\n",
        "|---------------|--------------|\n",
        "| electrotecnia | mar / jue    |\n",
        "| mec del cont  | lun Mier     |\n",
        "| Fundamentos   | lun y jueves |"
      ]
    },
    {
      "cell_type": "markdown",
      "metadata": {
        "id": "99QdaSdKCR0B",
        "colab_type": "text"
      },
      "source": [
        "Análisis Matemático 1 y Geometría1 Fundamentos de química y química orgánica Física experimental y mecánica racional Sistemas de representación"
      ]
    },
    {
      "cell_type": "markdown",
      "metadata": {
        "id": "uNAFvrtoCYuU",
        "colab_type": "text"
      },
      "source": [
        "# Ecuaciones\n",
        "\n",
        "ax^2 + bx + c\n",
        "\n",
        "\\begin{equation}\n",
        "y = 4x^{2} + 3x + c\n",
        "\\end{equation}\n"
      ]
    },
    {
      "cell_type": "markdown",
      "metadata": {
        "id": "U93fuiAYC-At",
        "colab_type": "text"
      },
      "source": [
        "# Calculadora\n",
        "\n",
        "* operaciones\n",
        "  * suma\n",
        "  * resta\n",
        "  * multiplicación\n",
        "  * división"
      ]
    },
    {
      "cell_type": "markdown",
      "metadata": {
        "id": "kL4OVtkzEbn9",
        "colab_type": "text"
      },
      "source": [
        "## suma"
      ]
    },
    {
      "cell_type": "code",
      "metadata": {
        "id": "tbcxZ7tGEZX-",
        "colab_type": "code",
        "colab": {}
      },
      "source": [
        "def suma(v1,v2):\n",
        "  #suma dos números int y/o float\n",
        "  # devuelve int y/o float\n",
        "  resultado = v1 + v2\n",
        "  return resultado"
      ],
      "execution_count": 0,
      "outputs": []
    },
    {
      "cell_type": "markdown",
      "metadata": {
        "id": "uyIBe5r6EwvX",
        "colab_type": "text"
      },
      "source": [
        "## resta\n"
      ]
    },
    {
      "cell_type": "code",
      "metadata": {
        "id": "3BD1NvZvEyso",
        "colab_type": "code",
        "colab": {}
      },
      "source": [
        "def resta(x, y):\n",
        "  # by Agustín\n",
        "  resultado_resta = x-y # resultadoResta\n",
        "  return resultado_resta"
      ],
      "execution_count": 0,
      "outputs": []
    },
    {
      "cell_type": "markdown",
      "metadata": {
        "id": "aNFOxyScE8cn",
        "colab_type": "text"
      },
      "source": [
        "## multiplicación"
      ]
    },
    {
      "cell_type": "markdown",
      "metadata": {
        "id": "RCObodosG4UQ",
        "colab_type": "text"
      },
      "source": [
        ""
      ]
    },
    {
      "cell_type": "code",
      "metadata": {
        "id": "BH8wiWIsE_0-",
        "colab_type": "code",
        "colab": {}
      },
      "source": [
        "def multiplicacion(v1,v2):\n",
        "  # by Andrea\n",
        "  resultado = v1 * v2\n",
        "  return resultado"
      ],
      "execution_count": 0,
      "outputs": []
    },
    {
      "cell_type": "markdown",
      "metadata": {
        "id": "sE3PgrIfG4zq",
        "colab_type": "text"
      },
      "source": [
        "## división\n",
        "\n",
        "### primera parte"
      ]
    },
    {
      "cell_type": "code",
      "metadata": {
        "id": "5ByfwNcGFJgr",
        "colab_type": "code",
        "colab": {}
      },
      "source": [
        "def division(v1,v2):\n",
        "  resultado = v1/v2\n",
        "  return resultado"
      ],
      "execution_count": 0,
      "outputs": []
    },
    {
      "cell_type": "markdown",
      "metadata": {
        "id": "jxu6z29HHGjO",
        "colab_type": "text"
      },
      "source": [
        "### segunda parte:\n",
        "v2 = 0 --> salvarlo\n",
        "\n",
        "=> v2 != 0"
      ]
    },
    {
      "cell_type": "code",
      "metadata": {
        "colab_type": "code",
        "id": "2Iz4JDDxHPIZ",
        "colab": {}
      },
      "source": [
        "def division(v1,v2):\n",
        "  resultado = \"v2 tiene que ser distinto de 0\"\n",
        "  if v2 != 0:\n",
        "    resultado = v1/v2\n",
        "  else:\n",
        "    resultado\n",
        "  return resultado"
      ],
      "execution_count": 0,
      "outputs": []
    },
    {
      "cell_type": "code",
      "metadata": {
        "id": "r82iTzsiHyKk",
        "colab_type": "code",
        "outputId": "d3324bf1-7014-4d10-fcca-5501fd72c4b7",
        "colab": {
          "base_uri": "https://localhost:8080/",
          "height": 34
        }
      },
      "source": [
        "division(3,2)"
      ],
      "execution_count": 0,
      "outputs": [
        {
          "output_type": "execute_result",
          "data": {
            "text/plain": [
              "1.5"
            ]
          },
          "metadata": {
            "tags": []
          },
          "execution_count": 7
        }
      ]
    },
    {
      "cell_type": "markdown",
      "metadata": {
        "id": "d-j99FUkIxMz",
        "colab_type": "text"
      },
      "source": [
        "### tercera parte\n",
        "\n",
        "v1 != 0\n",
        "v2 != 0"
      ]
    },
    {
      "cell_type": "markdown",
      "metadata": {
        "id": "yopwV6FGU06w",
        "colab_type": "text"
      },
      "source": [
        "![texto alternativo](https://user-images.githubusercontent.com/50641494/83420102-82d05980-a3fc-11ea-86a1-e196ed1ab802.PNG)"
      ]
    },
    {
      "cell_type": "markdown",
      "metadata": {
        "id": "TISErMtVNL2y",
        "colab_type": "text"
      },
      "source": [
        "# Agustín"
      ]
    },
    {
      "cell_type": "code",
      "metadata": {
        "id": "whVbwKBsIrJe",
        "colab_type": "code",
        "colab": {}
      },
      "source": [
        "def division(x, y):\n",
        "  # entrar 2 valores int y/o float, devuelve int/float\n",
        "  # en caso de y==0 no se realiza --> devuelve None\n",
        "  # en caso de x== 0 y y ==0  --> devuelve None\n",
        "  resultado_division = None\n",
        "  if y != 0:\n",
        "    resultado_division = x/y\n",
        "  elif x == 0 and y == 0:\n",
        "    print('Indeterminacion!, Podes salvarlo aplicando LHopital') \n",
        "  else:\n",
        "    print('No se puede dividir por 0')\n",
        "  return resultado_division"
      ],
      "execution_count": 0,
      "outputs": []
    },
    {
      "cell_type": "code",
      "metadata": {
        "id": "sR8bB8uFJX65",
        "colab_type": "code",
        "outputId": "f5866605-71c0-4670-a47c-5b290e700b41",
        "colab": {
          "base_uri": "https://localhost:8080/",
          "height": 34
        }
      },
      "source": [
        "division(0,0)"
      ],
      "execution_count": 0,
      "outputs": [
        {
          "output_type": "stream",
          "text": [
            "Indeterminacion!, Podes salvarlo aplicando Lopital\n"
          ],
          "name": "stdout"
        }
      ]
    },
    {
      "cell_type": "code",
      "metadata": {
        "id": "7XaRfYXwJl0n",
        "colab_type": "code",
        "outputId": "0f6b752a-3600-4641-c7a0-72e75ddbdce4",
        "colab": {
          "base_uri": "https://localhost:8080/",
          "height": 34
        }
      },
      "source": [
        "resultado_division = division(3,2)\n",
        "print(resultado_division)"
      ],
      "execution_count": 0,
      "outputs": [
        {
          "output_type": "stream",
          "text": [
            "1.5\n"
          ],
          "name": "stdout"
        }
      ]
    },
    {
      "cell_type": "markdown",
      "metadata": {
        "id": "emUDRjNkNHVJ",
        "colab_type": "text"
      },
      "source": [
        "# Andrea"
      ]
    },
    {
      "cell_type": "code",
      "metadata": {
        "id": "Slx2FBLkMA_6",
        "colab_type": "code",
        "colab": {}
      },
      "source": [
        "def division(v1,v2):\n",
        "  # el denominador no puede ser 0, la indeterminación 0/0 podría resolverse por L'Hopital\n",
        "  resultado = 'no se puede dividir por 0'\n",
        "  if v1 !=0 and v2 !=0:\n",
        "    resultado = v1/v2\n",
        "    print(resultado)\n",
        "  elif v1 != 0 and v2 != 0:\n",
        "    print('no se puede dividir por 0')\n",
        "  else:\n",
        "    print('indeterminación 0/0, probar por Lhopital')"
      ],
      "execution_count": 0,
      "outputs": []
    },
    {
      "cell_type": "code",
      "metadata": {
        "id": "iKPMz78RMVLh",
        "colab_type": "code",
        "outputId": "2c024447-15c5-4bc0-c839-c6ee0f07d2f0",
        "colab": {
          "base_uri": "https://localhost:8080/",
          "height": 34
        }
      },
      "source": [
        "division(0,3)"
      ],
      "execution_count": 0,
      "outputs": [
        {
          "output_type": "stream",
          "text": [
            "indeterminación 0/0, probar por Lhopital\n"
          ],
          "name": "stdout"
        }
      ]
    },
    {
      "cell_type": "markdown",
      "metadata": {
        "id": "-FPjoIVdNEso",
        "colab_type": "text"
      },
      "source": [
        "# Santiago"
      ]
    },
    {
      "cell_type": "code",
      "metadata": {
        "id": "48nrT0y1M0Rg",
        "colab_type": "code",
        "colab": {}
      },
      "source": [
        "def division(v1, v2):\n",
        "  if v2 != 0:\n",
        "    resultado_divison = v1/v2\n",
        "    return resultado_divison\n",
        "  elif v1 == 0 and v2 ==0:\n",
        "    return (\"esta indeterminado, se puede salvar con L´Hopital\")\n",
        "  else:\n",
        "    return (\"no se puede dividir por cero\")"
      ],
      "execution_count": 0,
      "outputs": []
    },
    {
      "cell_type": "code",
      "metadata": {
        "id": "zEaSsml0Nr0W",
        "colab_type": "code",
        "outputId": "0c141ecf-ab5b-4ad1-83af-65e0f6259445",
        "colab": {
          "base_uri": "https://localhost:8080/",
          "height": 34
        }
      },
      "source": [
        "division(0,0)"
      ],
      "execution_count": 0,
      "outputs": [
        {
          "output_type": "execute_result",
          "data": {
            "text/plain": [
              "'esta indeterminado, se puede salvar con L´Hopital'"
            ]
          },
          "metadata": {
            "tags": []
          },
          "execution_count": 35
        }
      ]
    },
    {
      "cell_type": "code",
      "metadata": {
        "id": "M6WwaQ7sOWkP",
        "colab_type": "code",
        "colab": {}
      },
      "source": [
        "def division(v1,v2):\n",
        "  # el denominador no puede ser 0, la indeterminación 0/0 podría resolverse por L'Hopital\n",
        "  if v1 !=0 and v2 !=0:\n",
        "    resultado = v1/v2\n",
        "    print(resultado)\n",
        "  elif v1 == 0 and v2 != 0:\n",
        "    resultado = v1/v2\n",
        "    print(resultado)\n",
        "  elif v1 != 0 and v2 == 0:\n",
        "    print('no se puede dividir por 0')\n",
        "  else:\n",
        "    print('indeterminación 0/0, probar por Lhopital')"
      ],
      "execution_count": 0,
      "outputs": []
    },
    {
      "cell_type": "code",
      "metadata": {
        "id": "mvePQnBUObLf",
        "colab_type": "code",
        "outputId": "a52e4b3b-a07c-4a48-eea1-f929f3bd4abd",
        "colab": {
          "base_uri": "https://localhost:8080/",
          "height": 34
        }
      },
      "source": [
        "division(4,0)"
      ],
      "execution_count": 0,
      "outputs": [
        {
          "output_type": "stream",
          "text": [
            "no se puede dividir por 0\n"
          ],
          "name": "stdout"
        }
      ]
    },
    {
      "cell_type": "markdown",
      "metadata": {
        "id": "TM4xQa6KPwhx",
        "colab_type": "text"
      },
      "source": [
        "# Anna Bianca"
      ]
    },
    {
      "cell_type": "markdown",
      "metadata": {
        "id": "5Jw3auDBNq0n",
        "colab_type": "text"
      },
      "source": [
        ""
      ]
    },
    {
      "cell_type": "code",
      "metadata": {
        "id": "93u2UlxnP6Qb",
        "colab_type": "code",
        "colab": {}
      },
      "source": [
        "def division(v1,v2):\n",
        "  # el denominador no puede ser 0, la indeterminación 0/0 podría resolverse por L'Hopital\n",
        "  if v1 !=0 and v2 !=0:\n",
        "    resultado = v1/v2\n",
        "    print(resultado)\n",
        "  elif v1 == 0 and v2 != 0:\n",
        "    resultado = v1/v2\n",
        "    print(resultado)\n",
        "  elif v1 != 0 and v2 == 0:\n",
        "    print('no se puede dividir por 0')\n",
        "  else:\n",
        "    print('indeterminación 0/0, probar por Lhopital')"
      ],
      "execution_count": 0,
      "outputs": []
    },
    {
      "cell_type": "code",
      "metadata": {
        "id": "MVwNtXM2P-nd",
        "colab_type": "code",
        "outputId": "0fa2a405-ad08-4bdc-d506-16b0871feda7",
        "colab": {
          "base_uri": "https://localhost:8080/",
          "height": 34
        }
      },
      "source": [
        "division(0,4)"
      ],
      "execution_count": 0,
      "outputs": [
        {
          "output_type": "stream",
          "text": [
            "0.0\n"
          ],
          "name": "stdout"
        }
      ]
    },
    {
      "cell_type": "code",
      "metadata": {
        "id": "rfLvwgLsSQhv",
        "colab_type": "code",
        "colab": {}
      },
      "source": [
        "import numpy as np"
      ],
      "execution_count": 0,
      "outputs": []
    },
    {
      "cell_type": "code",
      "metadata": {
        "id": "kpqcG8CrSU4A",
        "colab_type": "code",
        "colab": {}
      },
      "source": [
        "vector = np.array([2,3,1,0])"
      ],
      "execution_count": 0,
      "outputs": []
    },
    {
      "cell_type": "code",
      "metadata": {
        "id": "yyLeXiZLSn88",
        "colab_type": "code",
        "outputId": "7b9b625f-eb8e-4908-d26c-fc5ba2b7cb81",
        "colab": {
          "base_uri": "https://localhost:8080/",
          "height": 34
        }
      },
      "source": [
        "vector[:2]"
      ],
      "execution_count": 0,
      "outputs": [
        {
          "output_type": "execute_result",
          "data": {
            "text/plain": [
              "array([2, 3])"
            ]
          },
          "metadata": {
            "tags": []
          },
          "execution_count": 58
        }
      ]
    }
  ]
}